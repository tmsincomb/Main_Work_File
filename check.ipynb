{
 "cells": [
  {
   "cell_type": "code",
   "execution_count": 3,
   "metadata": {},
   "outputs": [
    {
     "data": {
      "text/plain": [
       "set()"
      ]
     },
     "execution_count": 3,
     "metadata": {},
     "output_type": "execute_result"
    }
   ],
   "source": [
    "no_labels = set([line.replace('\\n', '') for line in open('/Users/love/Desktop/labels_not_in_NIF_only.txt', 'r').readlines()])\n",
    "yes_labels = set([line.replace('\\n', '') for line in open('/Users/love/Desktop/labels_in_NIF.txt', 'r').readlines()])\n",
    "no_labels & yes_labels"
   ]
  },
  {
   "cell_type": "code",
   "execution_count": 1,
   "metadata": {},
   "outputs": [
    {
     "data": {
      "text/plain": [
       "set()"
      ]
     },
     "execution_count": 1,
     "metadata": {},
     "output_type": "execute_result"
    }
   ],
   "source": [
    "no_labels = set([line.replace('\\n', '') for line in open('/Users/love/Desktop/labels_not_in_nlxeol.txt', 'r').readlines()])\n",
    "yes_labels = set([line.replace('\\n', '') for line in open('/Users/love/Desktop/labels_in_nlxeol.txt', 'r').readlines()])\n",
    "no_labels & yes_labels"
   ]
  },
  {
   "cell_type": "code",
   "execution_count": 1,
   "metadata": {},
   "outputs": [
    {
     "data": {
      "text/plain": [
       "11107"
      ]
     },
     "execution_count": 1,
     "metadata": {},
     "output_type": "execute_result"
    }
   ],
   "source": [
    "# 11107 is the total list number \n",
    "no_labels = [line.replace('\\n', '') for line in open('/Users/love/Desktop/labels_not_in_NIF_only.txt', 'r').readlines()]\n",
    "yes_labels = [line.replace('\\n', '') for line in open('/Users/love/Desktop/labels_in_NIF.txt', 'r').readlines()]\n",
    "len(no_labels) + len(yes_labels)"
   ]
  },
  {
   "cell_type": "code",
   "execution_count": 2,
   "metadata": {},
   "outputs": [
    {
     "data": {
      "text/plain": [
       "11107"
      ]
     },
     "execution_count": 2,
     "metadata": {},
     "output_type": "execute_result"
    }
   ],
   "source": [
    "# 11107 is the total list number \n",
    "no_labels = [line.replace('\\n', '') for line in open('/Users/love/Desktop/labels_not_in_nlxeol.txt', 'r').readlines()]\n",
    "yes_labels = [line.replace('\\n', '') for line in open('/Users/love/Desktop/labels_in_nlxeol.txt', 'r').readlines()]\n",
    "len(no_labels) + len(yes_labels)"
   ]
  },
  {
   "cell_type": "code",
   "execution_count": 12,
   "metadata": {},
   "outputs": [
    {
     "name": "stdout",
     "output_type": "stream",
     "text": [
      "45\n",
      "5275\n"
     ]
    }
   ],
   "source": [
    "in_nlxeol = set([line.replace('\\n', '') for line in open('/Users/love/Desktop/labels_in_nlxeol.txt', 'r').readlines()])\n",
    "not_in_nif = set([line.replace('\\n', '') for line in open('/Users/love/Desktop/labels_not_in_NIF_only.txt', 'r').readlines()])\n",
    "fix = in_nlxeol & not_in_nif\n",
    "print(len(list(fix)))\n",
    "print(len(list(not_in_nif)))\n",
    "#fix"
   ]
  },
  {
   "cell_type": "code",
   "execution_count": 15,
   "metadata": {},
   "outputs": [
    {
     "name": "stdout",
     "output_type": "stream",
     "text": [
      "2228\n",
      "5832 2273\n"
     ]
    },
    {
     "data": {
      "text/plain": [
       "45"
      ]
     },
     "execution_count": 15,
     "metadata": {},
     "output_type": "execute_result"
    }
   ],
   "source": [
    "in_nlxeol = set([line.replace('\\n', '') for line in open('/Users/love/Desktop/labels_in_nlxeol.txt', 'r').readlines()])\n",
    "in_nif = set([line.replace('\\n', '') for line in open('/Users/love/Desktop/labels_in_NIF.txt', 'r').readlines()])\n",
    "fix = in_nlxeol & in_nif\n",
    "print(len(list(fix)))\n",
    "print(len(list(in_nif)), len(list(in_nlxeol)))\n",
    "len(list(in_nlxeol)) - len(list(fix))\n"
   ]
  },
  {
   "cell_type": "code",
   "execution_count": null,
   "metadata": {
    "collapsed": true
   },
   "outputs": [],
   "source": []
  },
  {
   "cell_type": "code",
   "execution_count": 11,
   "metadata": {},
   "outputs": [
    {
     "data": {
      "text/plain": [
       "['http://purl.obolibrary.org/obo/PATO_0000892',\n",
       " 'http://purl.obolibrary.org/obo/PATO_0000956',\n",
       " 'http://purl.obolibrary.org/obo/PATO_0000890',\n",
       " 'http://purl.obolibrary.org/obo/PATO_0000906',\n",
       " 'http://purl.obolibrary.org/obo/PATO_0000908',\n",
       " 'http://purl.obolibrary.org/obo/PATO_0000901',\n",
       " 'http://purl.obolibrary.org/obo/PATO_0000910',\n",
       " 'http://purl.obolibrary.org/obo/PR_000014441',\n",
       " 'http://purl.obolibrary.org/obo/PR_000014458',\n",
       " 'http://purl.obolibrary.org/obo/PR_000004052',\n",
       " 'http://purl.obolibrary.org/obo/UBERON_0000992',\n",
       " 'http://purl.obolibrary.org/obo/UBERON_0003134',\n",
       " 'http://purl.obolibrary.org/obo/UBERON_0000474',\n",
       " 'http://purl.obolibrary.org/obo/UBERON_0005014',\n",
       " 'http://purl.obolibrary.org/obo/GO_0048091',\n",
       " 'http://purl.obolibrary.org/obo/GO_0046009',\n",
       " 'http://purl.obolibrary.org/obo/GO_0045925',\n",
       " 'http://purl.obolibrary.org/obo/UBERON_0011380',\n",
       " 'http://purl.obolibrary.org/obo/GO_0048090',\n",
       " 'http://purl.obolibrary.org/obo/GO_0045434']"
      ]
     },
     "execution_count": 11,
     "metadata": {},
     "output_type": "execute_result"
    }
   ],
   "source": [
    "import json\n",
    "new=json.loads(open('labels_not_in_NIF.txt', 'r').read())\n",
    "new['Female sterile']"
   ]
  },
  {
   "cell_type": "code",
   "execution_count": null,
   "metadata": {
    "collapsed": true
   },
   "outputs": [],
   "source": []
  }
 ],
 "metadata": {
  "kernelspec": {
   "display_name": "Python 3",
   "language": "python",
   "name": "python3"
  },
  "language_info": {
   "codemirror_mode": {
    "name": "ipython",
    "version": 3
   },
   "file_extension": ".py",
   "mimetype": "text/x-python",
   "name": "python",
   "nbconvert_exporter": "python",
   "pygments_lexer": "ipython3",
   "version": "3.6.1"
  }
 },
 "nbformat": 4,
 "nbformat_minor": 2
}
