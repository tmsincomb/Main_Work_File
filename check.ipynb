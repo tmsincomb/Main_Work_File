{
 "cells": [
  {
   "cell_type": "code",
   "execution_count": 1,
   "metadata": {
    "collapsed": false
   },
   "outputs": [
    {
     "data": {
      "text/plain": [
       "set()"
      ]
     },
     "execution_count": 1,
     "metadata": {},
     "output_type": "execute_result"
    }
   ],
   "source": [
    "no_labels = set([line.replace('\\n', '') for line in open('/Users/love/Desktop/labels_not_in_NIF.txt', 'r').readlines()])\n",
    "yes_labels = set([line.replace('\\n', '') for line in open('/Users/love/Desktop/labels_in_NIF.txt', 'r').readlines()])\n",
    "no_labels & yes_labels"
   ]
  },
  {
   "cell_type": "code",
   "execution_count": 2,
   "metadata": {
    "collapsed": false
   },
   "outputs": [
    {
     "data": {
      "text/plain": [
       "11107"
      ]
     },
     "execution_count": 2,
     "metadata": {},
     "output_type": "execute_result"
    }
   ],
   "source": [
    "# 11107 is the total list number \n",
    "no_labels = [line.replace('\\n', '') for line in open('/Users/love/Desktop/labels_not_in_NIF.txt', 'r').readlines()]\n",
    "yes_labels = [line.replace('\\n', '') for line in open('/Users/love/Desktop/labels_in_NIF.txt', 'r').readlines()]\n",
    "len(no_labels) + len(yes_labels)"
   ]
  },
  {
   "cell_type": "code",
   "execution_count": 11,
   "metadata": {
    "collapsed": false
   },
   "outputs": [
    {
     "data": {
      "text/plain": [
       "['http://purl.obolibrary.org/obo/PATO_0000892',\n",
       " 'http://purl.obolibrary.org/obo/PATO_0000956',\n",
       " 'http://purl.obolibrary.org/obo/PATO_0000890',\n",
       " 'http://purl.obolibrary.org/obo/PATO_0000906',\n",
       " 'http://purl.obolibrary.org/obo/PATO_0000908',\n",
       " 'http://purl.obolibrary.org/obo/PATO_0000901',\n",
       " 'http://purl.obolibrary.org/obo/PATO_0000910',\n",
       " 'http://purl.obolibrary.org/obo/PR_000014441',\n",
       " 'http://purl.obolibrary.org/obo/PR_000014458',\n",
       " 'http://purl.obolibrary.org/obo/PR_000004052',\n",
       " 'http://purl.obolibrary.org/obo/UBERON_0000992',\n",
       " 'http://purl.obolibrary.org/obo/UBERON_0003134',\n",
       " 'http://purl.obolibrary.org/obo/UBERON_0000474',\n",
       " 'http://purl.obolibrary.org/obo/UBERON_0005014',\n",
       " 'http://purl.obolibrary.org/obo/GO_0048091',\n",
       " 'http://purl.obolibrary.org/obo/GO_0046009',\n",
       " 'http://purl.obolibrary.org/obo/GO_0045925',\n",
       " 'http://purl.obolibrary.org/obo/UBERON_0011380',\n",
       " 'http://purl.obolibrary.org/obo/GO_0048090',\n",
       " 'http://purl.obolibrary.org/obo/GO_0045434']"
      ]
     },
     "execution_count": 11,
     "metadata": {},
     "output_type": "execute_result"
    }
   ],
   "source": [
    "import json\n",
    "new=json.loads(open('labels_not_in_NIF.txt', 'r').read())\n",
    "new['Female sterile']"
   ]
  },
  {
   "cell_type": "code",
   "execution_count": null,
   "metadata": {
    "collapsed": true
   },
   "outputs": [],
   "source": []
  }
 ],
 "metadata": {
  "kernelspec": {
   "display_name": "Python 3",
   "language": "python",
   "name": "python3"
  },
  "language_info": {
   "codemirror_mode": {
    "name": "ipython",
    "version": 3
   },
   "file_extension": ".py",
   "mimetype": "text/x-python",
   "name": "python",
   "nbconvert_exporter": "python",
   "pygments_lexer": "ipython3",
   "version": "3.6.0"
  }
 },
 "nbformat": 4,
 "nbformat_minor": 2
}
